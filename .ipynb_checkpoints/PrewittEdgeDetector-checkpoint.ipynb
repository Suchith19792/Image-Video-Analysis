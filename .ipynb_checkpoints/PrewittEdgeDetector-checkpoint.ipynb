{
 "cells": [
  {
   "cell_type": "code",
   "execution_count": 13,
   "metadata": {},
   "outputs": [],
   "source": [
    "import cv2\n",
    "import os\n",
    "import numpy as np\n",
    "import matplotlib.pyplot as plt\n",
    "\n",
    "def GaussianBlur(image):\n",
    "    image = cv2.GaussianBlur(image, (3, 3), 0)\n",
    "    return image\n",
    "\n",
    "def PrewittFilter(image):\n",
    "    gradImg = np.zeros(image.shape)\n",
    "    G_x = np.zeros(image.shape)\n",
    "    G_y = np.zeros(image.shape)\n",
    "    size = image.shape\n",
    "    kernel_x = np.array(([-1, 0, 1], [-1, 0, 1], [-1, 0, 1]))\n",
    "    kernel_y = np.array(([-1, -1, -1], [0, 0, 0], [1, 1, 1]))\n",
    "    for i in range(1, size[0] - 1):\n",
    "        for j in range(1, size[1] - 1):\n",
    "            G_x[i, j] = np.sum(np.multiply(image[i - 1 : i + 2, j - 1 : j + 2], kernel_x))\n",
    "            G_y[i, j] = np.sum(np.multiply(image[i - 1 : i + 2, j - 1 : j + 2], kernel_y))\n",
    "    \n",
    "    gradImg = np.sqrt(np.square(G_x) + np.square(G_y))\n",
    "    gradImg = np.multiply(gradImg, 255.0 / gradImg.max())\n",
    "\n",
    "    angles = np.rad2deg(np.arctan2(G_y, G_x))\n",
    "    angles[angles < 0] += 180\n",
    "    gradImg = gradImg.astype('uint8')\n",
    "    return gradImg, angles\n",
    "\n",
    "\n",
    "def non_maximum_suppression(image, angles):\n",
    "    size = image.shape\n",
    "    suppressed = np.zeros(size)\n",
    "    for i in range(1, size[0] - 1):\n",
    "        for j in range(1, size[1] - 1):\n",
    "            if (0 <= angles[i, j] < 22.5) or (157.5 <= angles[i, j] <= 180):\n",
    "                #value_to_compare = max(image[i - 1, j], image[i + 1, j])\n",
    "                value_to_compare = max(image[i, j - 1], image[i, j + 1])\n",
    "            elif (22.5 <= angles[i, j] < 67.5):\n",
    "                #value_to_compare = max(image[i + 1, j - 1], image[i - 1, j + 1])\n",
    "                value_to_compare = max(image[i - 1, j - 1], image[i + 1, j + 1])\n",
    "            elif (67.5 <= angles[i, j] < 112.5):\n",
    "                #value_to_compare = max(image[i, j - 1], image[i, j + 1])\n",
    "                value_to_compare = max(image[i - 1, j], image[i + 1, j])\n",
    "            else:\n",
    "                #value_to_compare = max(image[i - 1, j - 1], image[i + 1, j + 1])\n",
    "                value_to_compare = max(image[i + 1, j - 1], image[i - 1, j + 1])\n",
    "            \n",
    "            if image[i, j] >= value_to_compare:\n",
    "                suppressed[i, j] = image[i, j]\n",
    "    suppressed = np.multiply(suppressed, 255.0 / suppressed.max())\n",
    "    suppressed = suppressed.astype('uint8')\n",
    "    return suppressed\n"
   ]
  },
  {
   "cell_type": "code",
   "execution_count": 23,
   "metadata": {},
   "outputs": [],
   "source": [
    "fname = 'PrewittEdgeDetector\\circlegrey'\n",
    "img_gray = cv2.imread(fname+'.tif',0)\n",
    "img_blur = GaussianBlur(img_gray)\n",
    "grad,phase = PrewittFilter(img_blur)\n",
    "nms = non_maximum_suppression(grad,phase)"
   ]
  },
  {
   "cell_type": "code",
   "execution_count": 24,
   "metadata": {},
   "outputs": [
    {
     "name": "stdout",
     "output_type": "stream",
     "text": [
      "Gradiant Image\n"
     ]
    },
    {
     "data": {
      "image/png": "[encoded data removed]",
      "text/plain": [
       "<Figure size 432x288 with 1 Axes>"
      ]
     },
     "metadata": {
      "needs_background": "light"
     },
     "output_type": "display_data"
    }
   ],
   "source": [
    "print(\"Gradiant Image\")\n",
    "#plt.imshow(grad,cmap='gray')\n",
    "#plt.axis('off')\n",
    "cv2.imshow('Grad',grad)\n",
    "cv2.imwrite(fname+'_gradMag_preNMS.png',grad)\n",
    "cv2.waitKey(0)\n",
    "cv2.destroyAllWindows()\n",
    "\n",
    "#plt.savefig(fname+'_gradMag_preNMS.png',bbox_inches='tight')"
   ]
  },
  {
   "cell_type": "code",
   "execution_count": 25,
   "metadata": {},
   "outputs": [
    {
     "name": "stdout",
     "output_type": "stream",
     "text": [
      "Non-Maxima Suppression Image\n"
     ]
    },
    {
     "data": {
      "image/png": "[encoded data removed]",
      "text/plain": [
       "<Figure size 432x288 with 1 Axes>"
      ]
     },
     "metadata": {
      "needs_background": "light"
     },
     "output_type": "display_data"
    }
   ],
   "source": [
    "print(\"Non-Maxima Suppression Image\")\n",
    "#plt.imshow(nms,cmap='gray')\n",
    "#plt.axis('off')\n",
    "cv2.imshow('NMS',nms)\n",
    "cv2.imwrite(fname+'_gradMag_postNMS.png',nms)\n",
    "cv2.waitKey(0)\n",
    "cv2.destroyAllWindows()\n",
    "\n",
    "#plt.savefig(fname+'_gradMag_postNMS.png',bbox_inches='tight')"
   ]
  }
 ],
 "metadata": {
  "kernelspec": {
   "display_name": "Python 3",
   "language": "python",
   "name": "python3"
  },
  "language_info": {
   "codemirror_mode": {
    "name": "ipython",
    "version": 3
   },
   "file_extension": ".py",
   "mimetype": "text/x-python",
   "name": "python",
   "nbconvert_exporter": "python",
   "pygments_lexer": "ipython3",
   "version": "3.7.3"
  }
 },
 "nbformat": 4,
 "nbformat_minor": 2
}
