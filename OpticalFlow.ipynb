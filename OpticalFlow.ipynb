{
 "cells": [
  {
   "cell_type": "code",
   "execution_count": 28,
   "metadata": {},
   "outputs": [],
   "source": [
    "import numpy as np\n",
    "import cv2\n",
    "import os"
   ]
  },
  {
   "cell_type": "code",
   "execution_count": 250,
   "metadata": {},
   "outputs": [],
   "source": [
    "# Parameters for lucas kanade optical flow\n",
    "lk_params = dict( winSize  = (15,15),\n",
    "                  maxLevel = 3,\n",
    "                  criteria = (cv2.TERM_CRITERIA_EPS | cv2.TERM_CRITERIA_COUNT, 10, 0.03))\n",
    "\n",
    "# params for ShiTomasi corner detection\n",
    "feature_params = dict( maxCorners = 0,\n",
    "                       qualityLevel = 0.3,\n",
    "                       minDistance = 7,\n",
    "                       blockSize = 7)"
   ]
  },
  {
   "cell_type": "markdown",
   "metadata": {},
   "source": [
    "# Sparse optical flow using KLT"
   ]
  },
  {
   "cell_type": "code",
   "execution_count": 282,
   "metadata": {},
   "outputs": [],
   "source": [
    "filename = os.path.join('OpticalFlow','fishes1_enh.mpg')\n",
    "fileout = filename[:filename.rfind('.')]+'_outKLT.avi'\n",
    "frame_width = int(cap.get(3))\n",
    "frame_height = int(cap.get(4))\n",
    "\n",
    "cap = cv2.VideoCapture(filename)\n",
    "\n",
    "# Take first frame and find corners in it\n",
    "ret, old_frame = cap.read()\n",
    "old_gray = cv2.cvtColor(old_frame, cv2.COLOR_BGR2GRAY)\n",
    "p0 = cv2.goodFeaturesToTrack(old_gray, mask = None, **feature_params)\n",
    "\n",
    "# Create a mask image for drawing purposes\n",
    "mask = np.zeros_like(old_frame)\n",
    "recap = cv2.VideoWriter(fileout, cv2.VideoWriter_fourcc('M', 'J', 'P', 'G'), 20, (frame_width, frame_height))\n",
    "\n",
    "while(1):\n",
    "    ret,frame = cap.read()\n",
    "    if ret:\n",
    "        frame_gray = cv2.cvtColor(frame, cv2.COLOR_BGR2GRAY)\n",
    "\n",
    "        # calculate optical flow\n",
    "        p1, st, err = cv2.calcOpticalFlowPyrLK(old_gray, frame_gray, p0, None, **lk_params)\n",
    "        \n",
    "        try:\n",
    "            # Select good points\n",
    "            good_new = p1[st==1]\n",
    "            good_old = p0[st==1]\n",
    "\n",
    "            # draw the tracks\n",
    "            for i,(new,old) in enumerate(zip(good_new,good_old)):\n",
    "                a,b = new.ravel()\n",
    "                c,d = old.ravel()\n",
    "                mask = cv2.line(mask, (a,b),(c,d), (0,255,0), 2)\n",
    "                frame = cv2.circle(frame,(a,b),5,(0,255,0),-1)\n",
    "            img = cv2.add(frame,mask)\n",
    "\n",
    "            img_resized = cv2.resize(img,(512,512), cv2.INTER_CUBIC)\n",
    "\n",
    "            recap.write(img)\n",
    "            cv2.imshow('frame',img_resized)\n",
    "            # Now update the previous frame and previous points\n",
    "            old_gray = frame_gray.copy()\n",
    "            p0 = good_new.reshape(-1,1,2)\n",
    "        except:\n",
    "            break\n",
    "    else:\n",
    "        break\n",
    "    k = cv2.waitKey(30) & 0xff\n",
    "    if k == 27:\n",
    "        break\n",
    "\n",
    "\n",
    "cv2.destroyAllWindows()\n",
    "cap.release()\n",
    "recap.release()"
   ]
  },
  {
   "cell_type": "markdown",
   "metadata": {},
   "source": [
    "# Dense Optical flow"
   ]
  },
  {
   "cell_type": "code",
   "execution_count": 211,
   "metadata": {},
   "outputs": [],
   "source": [
    "filename = os.path.join('OpticalFlow','sequence_gray.avi')\n",
    "cap = cv2.VideoCapture(filename)\n",
    "ret, frame1 = cap.read()\n",
    "prvs = cv2.cvtColor(frame1,cv2.COLOR_BGR2GRAY)\n",
    "\n",
    "frame_width = int(cap.get(3))\n",
    "frame_height = int(cap.get(4))\n",
    "\n",
    "fileout = filename[:filename.rfind('.')]+'_outDense.avi'\n",
    "recap = cv2.VideoWriter(fileout, cv2.VideoWriter_fourcc('M', 'J', 'P', 'G'), 2, (frame_width, frame_height))\n",
    "\n",
    "while(1):\n",
    "    ret, frame2 = cap.read()\n",
    "    if ret:\n",
    "        nxt = cv2.cvtColor(frame2, cv2.COLOR_BGR2GRAY)\n",
    "        flow = cv2.calcOpticalFlowFarneback(prvs, nxt, None, 0.5, 3, 15, 3, 7, 1.5, 0)\n",
    "        vfield = frame2.copy()\n",
    "        for x in range(0, frame2.shape[0], 15):\n",
    "            for y in range(0, frame2.shape[1], 15):\n",
    "                xflow, yflow = flow[x, y]\n",
    "                cv2.line(vfield, (y, x), (int(y + xflow), int(x + yflow)), (255, 255, 255), 1)\n",
    "                cv2.circle(vfield, (y, x), 1, (0, 0, 0), 1)\n",
    "        cv2.imshow('output', vfield)\n",
    "        recap.write(vfield)\n",
    "    else:\n",
    "        break\n",
    "\n",
    "    k = cv2.waitKey(30) & 0xff\n",
    "    if k == 27:\n",
    "        break\n",
    "    prvs = nxt\n",
    "\n",
    "cap.release()\n",
    "recap.release()\n",
    "\n",
    "cv2.destroyAllWindows()"
   ]
  },
  {
   "cell_type": "code",
   "execution_count": null,
   "metadata": {},
   "outputs": [],
   "source": []
  }
 ],
 "metadata": {
  "kernelspec": {
   "display_name": "Python 3",
   "language": "python",
   "name": "python3"
  },
  "language_info": {
   "codemirror_mode": {
    "name": "ipython",
    "version": 3
   },
   "file_extension": ".py",
   "mimetype": "text/x-python",
   "name": "python",
   "nbconvert_exporter": "python",
   "pygments_lexer": "ipython3",
   "version": "3.7.3"
  }
 },
 "nbformat": 4,
 "nbformat_minor": 2
}
